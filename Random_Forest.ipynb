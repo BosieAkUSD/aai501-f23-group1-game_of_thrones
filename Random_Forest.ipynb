{
 "cells": [
  {
   "cell_type": "code",
   "execution_count": 57,
   "id": "baec11a9-b019-4f35-875e-e9ec0098d0d0",
   "metadata": {},
   "outputs": [
    {
     "name": "stdout",
     "output_type": "stream",
     "text": [
      "Accuracy: 0.7384615384615385\n",
      "Confusion Matrix:\n",
      "[[ 31  75]\n",
      " [ 27 257]]\n",
      "Classification Report:\n",
      "              precision    recall  f1-score   support\n",
      "\n",
      "           0       0.53      0.29      0.38       106\n",
      "           1       0.77      0.90      0.83       284\n",
      "\n",
      "    accuracy                           0.74       390\n",
      "   macro avg       0.65      0.60      0.61       390\n",
      "weighted avg       0.71      0.74      0.71       390\n",
      "\n"
     ]
    }
   ],
   "source": [
    "import pandas as pd\n",
    "from sklearn.model_selection import train_test_split\n",
    "from sklearn.ensemble import RandomForestClassifier\n",
    "from sklearn.impute import SimpleImputer\n",
    "from sklearn.metrics import accuracy_score, classification_report, confusion_matrix\n",
    "\n",
    "# Load datasets\n",
    "character_predictions = pd.read_csv(\"character-predictions.csv\")\n",
    "character_deaths = pd.read_csv(\"character-deaths.csv\")\n",
    "\n",
    "# Combine datasets based on common keys\n",
    "merged_data = pd.merge(character_predictions, character_deaths, how='left', left_on=\"name\", right_on='Name')\n",
    "\n",
    "# Identify features and target variable\n",
    "selected_features = ['isNoble', 'male', 'age', 'numDeadRelations', 'boolDeadRelations', 'isPopular', 'popularity']\n",
    "X = merged_data[selected_features]\n",
    "y = merged_data['actual']\n",
    "\n",
    "# Split the data into training and testing sets\n",
    "X_train, X_test, y_train, y_test = train_test_split(X, y, test_size=0.2, random_state=0)\n",
    "\n",
    "# Handle missing values using mean imputation\n",
    "imputer = SimpleImputer(strategy='mean')\n",
    "X_train_imputed = imputer.fit_transform(X_train)\n",
    "X_test_imputed = imputer.transform(X_test)\n",
    "\n",
    "# Initialize the Random Forest model\n",
    "rf_model = RandomForestClassifier(n_estimators=1000, random_state=0)\n",
    "\n",
    "# Train the model with imputed data\n",
    "rf_model.fit(X_train_imputed, y_train)\n",
    "\n",
    "# Make predictions on the test set with imputed data\n",
    "y_pred = rf_model.predict(X_test_imputed)\n",
    "\n",
    "# Evaluate the model\n",
    "accuracy = accuracy_score(y_test, y_pred)\n",
    "conf_matrix = confusion_matrix(y_test, y_pred)\n",
    "classification_rep = classification_report(y_test, y_pred)\n",
    "\n",
    "# Print the evaluation metrics\n",
    "print(f\"Accuracy: {accuracy}\")\n",
    "print(f\"Confusion Matrix:\\n{conf_matrix}\")\n",
    "print(f\"Classification Report:\\n{classification_rep}\")"
   ]
  },
  {
   "cell_type": "code",
   "execution_count": null,
   "id": "98e55cdd-eb06-490c-9a76-c5331a9dd949",
   "metadata": {},
   "outputs": [],
   "source": []
  }
 ],
 "metadata": {
  "kernelspec": {
   "display_name": "Python 3 (ipykernel)",
   "language": "python",
   "name": "python3"
  },
  "language_info": {
   "codemirror_mode": {
    "name": "ipython",
    "version": 3
   },
   "file_extension": ".py",
   "mimetype": "text/x-python",
   "name": "python",
   "nbconvert_exporter": "python",
   "pygments_lexer": "ipython3",
   "version": "3.11.5"
  }
 },
 "nbformat": 4,
 "nbformat_minor": 5
}

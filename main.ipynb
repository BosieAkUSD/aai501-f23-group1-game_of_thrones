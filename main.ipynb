{
 "cells": [
  {
   "cell_type": "code",
   "execution_count": 1,
   "metadata": {},
   "outputs": [
    {
     "name": "stdout",
     "output_type": "stream",
     "text": [
      "Mean Squared Error: 0.1882066164746916\n",
      "R^2 Score: -0.06023060614076292\n",
      "Mean Absolute Error: 0.322940666771635\n",
      "\n",
      "Feature Importance:\n",
      "popularity: 0.45441090695230196\n",
      "age: 0.31389966498886784\n",
      "numDeadRelations: 0.08623942056832189\n",
      "male: 0.0738407041160697\n",
      "isNoble: 0.05695202085638185\n",
      "boolDeadRelations: 0.009331324781341781\n",
      "isPopular: 0.005325957736714908\n"
     ]
    }
   ],
   "source": [
    "# Import functions from other Python files\n",
    "from game_of_thrones_logistic_regression import logistic_regression_analysis\n",
    "from random_forest import random_forest_function\n",
    "from gradient_boosting import gradient_boosting_function\n",
    "from exploratory_data import exploratory_data_analysis"
   ]
  },
  {
   "cell_type": "code",
   "execution_count": 2,
   "metadata": {},
   "outputs": [
    {
     "name": "stdout",
     "output_type": "stream",
     "text": [
      "Running Exploratory Data Analysis...\n",
      "<class 'pandas.core.frame.DataFrame'>\n",
      "RangeIndex: 38 entries, 0 to 37\n",
      "Data columns (total 27 columns):\n",
      " #   Column              Non-Null Count  Dtype  \n",
      "---  ------              --------------  -----  \n",
      " 0   name                38 non-null     object \n",
      " 1   year                38 non-null     int64  \n",
      " 2   battle_number       38 non-null     int64  \n",
      " 3   attacker_king       36 non-null     object \n",
      " 4   defender_king       35 non-null     object \n",
      " 5   attacker_1          38 non-null     object \n",
      " 6   attacker_2          10 non-null     object \n",
      " 7   attacker_3          3 non-null      object \n",
      " 8   attacker_4          2 non-null      object \n",
      " 9   defender_1          37 non-null     object \n",
      " 10  defender_2          2 non-null      object \n",
      " 11  defender_3          0 non-null      float64\n",
      " 12  defender_4          0 non-null      float64\n",
      " 13  attacker_outcome    37 non-null     object \n",
      " 14  battle_type         37 non-null     object \n",
      " 15  major_death         37 non-null     float64\n",
      " 16  major_capture       37 non-null     float64\n",
      " 17  attacker_size       24 non-null     float64\n",
      " 18  defender_size       19 non-null     float64\n",
      " 19  attacker_commander  37 non-null     object \n",
      " 20  defender_commander  28 non-null     object \n",
      " 21  summer              37 non-null     float64\n",
      " 22  location            37 non-null     object \n",
      " 23  region              38 non-null     object \n",
      " 24  note                5 non-null      object \n",
      " 25  defender_count      38 non-null     int64  \n",
      " 26  attacker_count      38 non-null     int64  \n",
      "dtypes: float64(7), int64(4), object(16)\n",
      "memory usage: 8.1+ KB\n",
      "Missing Values:\n",
      " name                   0\n",
      "year                   0\n",
      "battle_number          0\n",
      "attacker_king          2\n",
      "defender_king          3\n",
      "attacker_1             0\n",
      "attacker_2            28\n",
      "attacker_3            35\n",
      "attacker_4            36\n",
      "defender_1             1\n",
      "defender_2            36\n",
      "defender_3            38\n",
      "defender_4            38\n",
      "attacker_outcome       1\n",
      "battle_type            1\n",
      "major_death            1\n",
      "major_capture          1\n",
      "attacker_size         14\n",
      "defender_size         19\n",
      "attacker_commander     1\n",
      "defender_commander    10\n",
      "summer                 1\n",
      "location               1\n",
      "region                 0\n",
      "note                  33\n",
      "defender_count         0\n",
      "attacker_count         0\n",
      "dtype: int64\n",
      "<class 'pandas.core.frame.DataFrame'>\n",
      "RangeIndex: 917 entries, 0 to 916\n",
      "Data columns (total 13 columns):\n",
      " #   Column              Non-Null Count  Dtype  \n",
      "---  ------              --------------  -----  \n",
      " 0   Name                917 non-null    object \n",
      " 1   Allegiances         664 non-null    object \n",
      " 2   Death Year          305 non-null    float64\n",
      " 3   Book of Death       307 non-null    float64\n",
      " 4   Death Chapter       299 non-null    float64\n",
      " 5   Book Intro Chapter  905 non-null    float64\n",
      " 6   Gender              917 non-null    int64  \n",
      " 7   Nobility            917 non-null    int64  \n",
      " 8   GoT                 917 non-null    int64  \n",
      " 9   CoK                 917 non-null    int64  \n",
      " 10  SoS                 917 non-null    int64  \n",
      " 11  FfC                 917 non-null    int64  \n",
      " 12  DwD                 917 non-null    int64  \n",
      "dtypes: float64(4), int64(7), object(2)\n",
      "memory usage: 93.3+ KB\n",
      "Missing Values:\n",
      " Death Year       612\n",
      "Book of Death    610\n",
      "Death Chapter    618\n",
      "dtype: int64\n",
      "Mean age of characters before adjustment -  -1293.5635103926097\n",
      "1684    Doreah\n",
      "1868    Rhaego\n",
      "Name: name, dtype: object\n",
      "1684   -277980.0\n",
      "1868   -298001.0\n",
      "Name: age, dtype: float64\n",
      "Mean age of characters after adjustment -  36.70207852193995\n"
     ]
    }
   ],
   "source": [
    "exploratory_data_analysis()"
   ]
  },
  {
   "cell_type": "code",
   "execution_count": 3,
   "metadata": {},
   "outputs": [
    {
     "name": "stdout",
     "output_type": "stream",
     "text": [
      " \n",
      "Running Logistic Regression Analysis...\n",
      "Accuracy: 0.7871794871794872\n",
      "\n",
      "Classification Report:\n",
      "               precision    recall  f1-score   support\n",
      "\n",
      "           0       0.82      0.10      0.18        90\n",
      "           1       0.79      0.99      0.88       300\n",
      "\n",
      "    accuracy                           0.79       390\n",
      "   macro avg       0.80      0.55      0.53       390\n",
      "weighted avg       0.79      0.79      0.72       390\n",
      "\n",
      "\n",
      "Confusion Matrix:\n",
      " [[  9  81]\n",
      " [  2 298]]\n",
      "\n",
      "Coefficients:\n",
      "[[ 2.66883067e-01  2.50500732e-01  7.24670871e-06 -3.17186166e-01\n",
      "  -5.92587021e-02 -3.26794045e-02  4.68177747e-03]]\n",
      "\n",
      "Coefficients with Features:\n",
      "             Feature  Coefficient\n",
      "0            isNoble     0.266883\n",
      "1               male     0.250501\n",
      "2                age     0.000007\n",
      "3   numDeadRelations    -0.317186\n",
      "4  boolDeadRelations    -0.059259\n",
      "5          isPopular    -0.032679\n",
      "6         popularity     0.004682\n",
      "\n",
      "New Model Accuracy: 0.7871794871794872\n"
     ]
    }
   ],
   "source": [
    "logistic_regression_analysis()"
   ]
  },
  {
   "cell_type": "code",
   "execution_count": 4,
   "metadata": {},
   "outputs": [
    {
     "name": "stdout",
     "output_type": "stream",
     "text": [
      "Accuracy: 0.7384615384615385\n",
      "Confusion Matrix:\n",
      "[[ 31  75]\n",
      " [ 27 257]]\n",
      "Classification Report:\n",
      "              precision    recall  f1-score   support\n",
      "\n",
      "           0       0.53      0.29      0.38       106\n",
      "           1       0.77      0.90      0.83       284\n",
      "\n",
      "    accuracy                           0.74       390\n",
      "   macro avg       0.65      0.60      0.61       390\n",
      "weighted avg       0.71      0.74      0.71       390\n",
      "\n"
     ]
    }
   ],
   "source": [
    "random_forest_function()"
   ]
  },
  {
   "cell_type": "code",
   "execution_count": 6,
   "metadata": {},
   "outputs": [
    {
     "name": "stdout",
     "output_type": "stream",
     "text": [
      "Mean Squared Error: 0.1882066164746916\n",
      "R^2 Score: -0.06023060614076292\n",
      "Mean Absolute Error: 0.322940666771635\n",
      "\n",
      "Feature Importance:\n",
      "popularity: 0.45441090695230196\n",
      "age: 0.31389966498886784\n",
      "numDeadRelations: 0.08623942056832189\n",
      "male: 0.0738407041160697\n",
      "isNoble: 0.05695202085638185\n",
      "boolDeadRelations: 0.009331324781341781\n",
      "isPopular: 0.005325957736714908\n"
     ]
    }
   ],
   "source": [
    "gradient_boosting_function()"
   ]
  },
  {
   "cell_type": "code",
   "execution_count": null,
   "metadata": {},
   "outputs": [],
   "source": []
  }
 ],
 "metadata": {
  "kernelspec": {
   "display_name": "aai501Proj",
   "language": "python",
   "name": "python3"
  },
  "language_info": {
   "codemirror_mode": {
    "name": "ipython",
    "version": 3
   },
   "file_extension": ".py",
   "mimetype": "text/x-python",
   "name": "python",
   "nbconvert_exporter": "python",
   "pygments_lexer": "ipython3",
   "version": "3.12.0"
  }
 },
 "nbformat": 4,
 "nbformat_minor": 2
}
